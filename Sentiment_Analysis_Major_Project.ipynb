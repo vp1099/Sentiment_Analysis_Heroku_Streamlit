{
  "nbformat": 4,
  "nbformat_minor": 0,
  "metadata": {
    "colab": {
      "name": " Sentiment-Analysis-Major-Project.ipynb",
      "provenance": [],
      "mount_file_id": "1Z5XhUNfv-71ub_BLszC-L747gtaMLRC2",
      "authorship_tag": "ABX9TyOdtob3PO6WG0jmWlr9skha",
      "include_colab_link": true
    },
    "kernelspec": {
      "name": "python3",
      "display_name": "Python 3"
    }
  },
  "cells": [
    {
      "cell_type": "markdown",
      "metadata": {
        "id": "view-in-github",
        "colab_type": "text"
      },
      "source": [
        "<a href=\"https://colab.research.google.com/github/amlanmohanty1/Sentiment-Analysis-Major-Project-/blob/main/Sentiment_Analysis_Major_Project.ipynb\" target=\"_parent\"><img src=\"https://colab.research.google.com/assets/colab-badge.svg\" alt=\"Open In Colab\"/></a>"
      ]
    },
    {
      "cell_type": "code",
      "metadata": {
        "id": "Oo7_InVVz5gD",
        "colab": {
          "base_uri": "https://localhost:8080/",
          "height": 206
        },
        "outputId": "bca3e5d5-017e-4760-cc9a-5201da5c625f"
      },
      "source": [
        "import pandas as pd\n",
        "df = pd.read_csv('/content/drive/My Drive/amazonreviews.tsv',sep='\\t')\n",
        "df.head()"
      ],
      "execution_count": 8,
      "outputs": [
        {
          "output_type": "execute_result",
          "data": {
            "text/html": [
              "<div>\n",
              "<style scoped>\n",
              "    .dataframe tbody tr th:only-of-type {\n",
              "        vertical-align: middle;\n",
              "    }\n",
              "\n",
              "    .dataframe tbody tr th {\n",
              "        vertical-align: top;\n",
              "    }\n",
              "\n",
              "    .dataframe thead th {\n",
              "        text-align: right;\n",
              "    }\n",
              "</style>\n",
              "<table border=\"1\" class=\"dataframe\">\n",
              "  <thead>\n",
              "    <tr style=\"text-align: right;\">\n",
              "      <th></th>\n",
              "      <th>label</th>\n",
              "      <th>review</th>\n",
              "    </tr>\n",
              "  </thead>\n",
              "  <tbody>\n",
              "    <tr>\n",
              "      <th>0</th>\n",
              "      <td>pos</td>\n",
              "      <td>Stuning even for the non-gamer: This sound tra...</td>\n",
              "    </tr>\n",
              "    <tr>\n",
              "      <th>1</th>\n",
              "      <td>pos</td>\n",
              "      <td>The best soundtrack ever to anything.: I'm rea...</td>\n",
              "    </tr>\n",
              "    <tr>\n",
              "      <th>2</th>\n",
              "      <td>pos</td>\n",
              "      <td>Amazing!: This soundtrack is my favorite music...</td>\n",
              "    </tr>\n",
              "    <tr>\n",
              "      <th>3</th>\n",
              "      <td>pos</td>\n",
              "      <td>Excellent Soundtrack: I truly like this soundt...</td>\n",
              "    </tr>\n",
              "    <tr>\n",
              "      <th>4</th>\n",
              "      <td>pos</td>\n",
              "      <td>Remember, Pull Your Jaw Off The Floor After He...</td>\n",
              "    </tr>\n",
              "  </tbody>\n",
              "</table>\n",
              "</div>"
            ],
            "text/plain": [
              "  label                                             review\n",
              "0   pos  Stuning even for the non-gamer: This sound tra...\n",
              "1   pos  The best soundtrack ever to anything.: I'm rea...\n",
              "2   pos  Amazing!: This soundtrack is my favorite music...\n",
              "3   pos  Excellent Soundtrack: I truly like this soundt...\n",
              "4   pos  Remember, Pull Your Jaw Off The Floor After He..."
            ]
          },
          "metadata": {
            "tags": []
          },
          "execution_count": 8
        }
      ]
    },
    {
      "cell_type": "code",
      "metadata": {
        "id": "HNqUKUB00OIU"
      },
      "source": [
        "#importing all the required libraries\n",
        "import nltk\n",
        "from nltk.corpus import stopwords\n",
        "from nltk.tokenize import word_tokenize,sent_tokenize\n",
        "from nltk.stem import WordNetLemmatizer\n",
        "from nltk import tokenize"
      ],
      "execution_count": 9,
      "outputs": []
    },
    {
      "cell_type": "code",
      "metadata": {
        "id": "5DaUZ0DB1vsK",
        "colab": {
          "base_uri": "https://localhost:8080/",
          "height": 424
        },
        "outputId": "eea31fcc-ec18-478e-c481-3e6699e3363f"
      },
      "source": [
        "#converting the reviews into lower case\n",
        "df.review=df.review.apply(lambda x: x.lower())\n",
        "df"
      ],
      "execution_count": 10,
      "outputs": [
        {
          "output_type": "execute_result",
          "data": {
            "text/html": [
              "<div>\n",
              "<style scoped>\n",
              "    .dataframe tbody tr th:only-of-type {\n",
              "        vertical-align: middle;\n",
              "    }\n",
              "\n",
              "    .dataframe tbody tr th {\n",
              "        vertical-align: top;\n",
              "    }\n",
              "\n",
              "    .dataframe thead th {\n",
              "        text-align: right;\n",
              "    }\n",
              "</style>\n",
              "<table border=\"1\" class=\"dataframe\">\n",
              "  <thead>\n",
              "    <tr style=\"text-align: right;\">\n",
              "      <th></th>\n",
              "      <th>label</th>\n",
              "      <th>review</th>\n",
              "    </tr>\n",
              "  </thead>\n",
              "  <tbody>\n",
              "    <tr>\n",
              "      <th>0</th>\n",
              "      <td>pos</td>\n",
              "      <td>stuning even for the non-gamer: this sound tra...</td>\n",
              "    </tr>\n",
              "    <tr>\n",
              "      <th>1</th>\n",
              "      <td>pos</td>\n",
              "      <td>the best soundtrack ever to anything.: i'm rea...</td>\n",
              "    </tr>\n",
              "    <tr>\n",
              "      <th>2</th>\n",
              "      <td>pos</td>\n",
              "      <td>amazing!: this soundtrack is my favorite music...</td>\n",
              "    </tr>\n",
              "    <tr>\n",
              "      <th>3</th>\n",
              "      <td>pos</td>\n",
              "      <td>excellent soundtrack: i truly like this soundt...</td>\n",
              "    </tr>\n",
              "    <tr>\n",
              "      <th>4</th>\n",
              "      <td>pos</td>\n",
              "      <td>remember, pull your jaw off the floor after he...</td>\n",
              "    </tr>\n",
              "    <tr>\n",
              "      <th>...</th>\n",
              "      <td>...</td>\n",
              "      <td>...</td>\n",
              "    </tr>\n",
              "    <tr>\n",
              "      <th>9995</th>\n",
              "      <td>pos</td>\n",
              "      <td>a revelation of life in small town america in ...</td>\n",
              "    </tr>\n",
              "    <tr>\n",
              "      <th>9996</th>\n",
              "      <td>pos</td>\n",
              "      <td>great biography of a very interesting journali...</td>\n",
              "    </tr>\n",
              "    <tr>\n",
              "      <th>9997</th>\n",
              "      <td>neg</td>\n",
              "      <td>interesting subject; poor presentation: you'd ...</td>\n",
              "    </tr>\n",
              "    <tr>\n",
              "      <th>9998</th>\n",
              "      <td>neg</td>\n",
              "      <td>don't buy: the box looked used and it is obvio...</td>\n",
              "    </tr>\n",
              "    <tr>\n",
              "      <th>9999</th>\n",
              "      <td>pos</td>\n",
              "      <td>beautiful pen and fast delivery.: the pen was ...</td>\n",
              "    </tr>\n",
              "  </tbody>\n",
              "</table>\n",
              "<p>10000 rows × 2 columns</p>\n",
              "</div>"
            ],
            "text/plain": [
              "     label                                             review\n",
              "0      pos  stuning even for the non-gamer: this sound tra...\n",
              "1      pos  the best soundtrack ever to anything.: i'm rea...\n",
              "2      pos  amazing!: this soundtrack is my favorite music...\n",
              "3      pos  excellent soundtrack: i truly like this soundt...\n",
              "4      pos  remember, pull your jaw off the floor after he...\n",
              "...    ...                                                ...\n",
              "9995   pos  a revelation of life in small town america in ...\n",
              "9996   pos  great biography of a very interesting journali...\n",
              "9997   neg  interesting subject; poor presentation: you'd ...\n",
              "9998   neg  don't buy: the box looked used and it is obvio...\n",
              "9999   pos  beautiful pen and fast delivery.: the pen was ...\n",
              "\n",
              "[10000 rows x 2 columns]"
            ]
          },
          "metadata": {
            "tags": []
          },
          "execution_count": 10
        }
      ]
    },
    {
      "cell_type": "code",
      "metadata": {
        "id": "g_Uy3N8d4R9J",
        "colab": {
          "base_uri": "https://localhost:8080/"
        },
        "outputId": "a4f8375b-51fa-4364-d0b4-53ca039a5ce6"
      },
      "source": [
        "!pip install contractions"
      ],
      "execution_count": 11,
      "outputs": [
        {
          "output_type": "stream",
          "text": [
            "Collecting contractions\n",
            "  Downloading https://files.pythonhosted.org/packages/00/92/a05b76a692ac08d470ae5c23873cf1c9a041532f1ee065e74b374f218306/contractions-0.0.25-py2.py3-none-any.whl\n",
            "Collecting textsearch\n",
            "  Downloading https://files.pythonhosted.org/packages/42/a8/03407021f9555043de5492a2bd7a35c56cc03c2510092b5ec018cae1bbf1/textsearch-0.0.17-py2.py3-none-any.whl\n",
            "Collecting Unidecode\n",
            "\u001b[?25l  Downloading https://files.pythonhosted.org/packages/d0/42/d9edfed04228bacea2d824904cae367ee9efd05e6cce7ceaaedd0b0ad964/Unidecode-1.1.1-py2.py3-none-any.whl (238kB)\n",
            "\u001b[K     |████████████████████████████████| 245kB 5.7MB/s \n",
            "\u001b[?25hCollecting pyahocorasick\n",
            "\u001b[?25l  Downloading https://files.pythonhosted.org/packages/f4/9f/f0d8e8850e12829eea2e778f1c90e3c53a9a799b7f412082a5d21cd19ae1/pyahocorasick-1.4.0.tar.gz (312kB)\n",
            "\u001b[K     |████████████████████████████████| 317kB 24.4MB/s \n",
            "\u001b[?25hBuilding wheels for collected packages: pyahocorasick\n",
            "  Building wheel for pyahocorasick (setup.py) ... \u001b[?25l\u001b[?25hdone\n",
            "  Created wheel for pyahocorasick: filename=pyahocorasick-1.4.0-cp36-cp36m-linux_x86_64.whl size=81693 sha256=8cbcf4a2ed47d3af07515405d256d1b04337cbcc18e481a6f3e01accbb602271\n",
            "  Stored in directory: /root/.cache/pip/wheels/0a/90/61/87a55f5b459792fbb2b7ba6b31721b06ff5cf6bde541b40994\n",
            "Successfully built pyahocorasick\n",
            "Installing collected packages: Unidecode, pyahocorasick, textsearch, contractions\n",
            "Successfully installed Unidecode-1.1.1 contractions-0.0.25 pyahocorasick-1.4.0 textsearch-0.0.17\n"
          ],
          "name": "stdout"
        }
      ]
    },
    {
      "cell_type": "code",
      "metadata": {
        "id": "Jzm-VyRE4Z7e"
      },
      "source": [
        "import contractions"
      ],
      "execution_count": 12,
      "outputs": []
    },
    {
      "cell_type": "code",
      "metadata": {
        "id": "kge0_15b3Niw",
        "colab": {
          "base_uri": "https://localhost:8080/",
          "height": 91
        },
        "outputId": "fdcd69fd-62ec-4bad-d8c8-c9808d62ec1d"
      },
      "source": [
        "# Expanding contractions\n",
        "def con(text):\n",
        "  expand=contractions.fix(text)\n",
        "  return expand\n",
        "\n",
        "df.review=df.review.apply(con)\n",
        "df['review'][0]"
      ],
      "execution_count": 13,
      "outputs": [
        {
          "output_type": "execute_result",
          "data": {
            "application/vnd.google.colaboratory.intrinsic+json": {
              "type": "string"
            },
            "text/plain": [
              "'stuning even for the non-gamer: this sound track was beautiful! it paints the senery in your mind so well i would recomend it even to people who hate vid. game music! i have played the game chrono cross but out of all of the games i have ever played it has the best music! it backs away from crude keyboarding and takes a fresher step with grate guitars and soulful orchestras. it would impress anyone who cares to listen! ^_^'"
            ]
          },
          "metadata": {
            "tags": []
          },
          "execution_count": 13
        }
      ]
    },
    {
      "cell_type": "code",
      "metadata": {
        "id": "-ptOhioF4gVS",
        "colab": {
          "base_uri": "https://localhost:8080/",
          "height": 424
        },
        "outputId": "e92d668c-bcd2-4c4a-f7a4-d3bc6c4143be"
      },
      "source": [
        "import re\n",
        "\n",
        "def remove_sp(text):\n",
        "  pattern=r'[^A-Za-z0-9\\s]'\n",
        "  text=re.sub(pattern,'',text)\n",
        "  return text\n",
        "\n",
        "df.review=df.review.apply(remove_sp)\n",
        "df"
      ],
      "execution_count": 14,
      "outputs": [
        {
          "output_type": "execute_result",
          "data": {
            "text/html": [
              "<div>\n",
              "<style scoped>\n",
              "    .dataframe tbody tr th:only-of-type {\n",
              "        vertical-align: middle;\n",
              "    }\n",
              "\n",
              "    .dataframe tbody tr th {\n",
              "        vertical-align: top;\n",
              "    }\n",
              "\n",
              "    .dataframe thead th {\n",
              "        text-align: right;\n",
              "    }\n",
              "</style>\n",
              "<table border=\"1\" class=\"dataframe\">\n",
              "  <thead>\n",
              "    <tr style=\"text-align: right;\">\n",
              "      <th></th>\n",
              "      <th>label</th>\n",
              "      <th>review</th>\n",
              "    </tr>\n",
              "  </thead>\n",
              "  <tbody>\n",
              "    <tr>\n",
              "      <th>0</th>\n",
              "      <td>pos</td>\n",
              "      <td>stuning even for the nongamer this sound track...</td>\n",
              "    </tr>\n",
              "    <tr>\n",
              "      <th>1</th>\n",
              "      <td>pos</td>\n",
              "      <td>the best soundtrack ever to anything I am read...</td>\n",
              "    </tr>\n",
              "    <tr>\n",
              "      <th>2</th>\n",
              "      <td>pos</td>\n",
              "      <td>amazing this soundtrack is my favorite music o...</td>\n",
              "    </tr>\n",
              "    <tr>\n",
              "      <th>3</th>\n",
              "      <td>pos</td>\n",
              "      <td>excellent soundtrack i truly like this soundtr...</td>\n",
              "    </tr>\n",
              "    <tr>\n",
              "      <th>4</th>\n",
              "      <td>pos</td>\n",
              "      <td>remember pull your jaw off the floor after hea...</td>\n",
              "    </tr>\n",
              "    <tr>\n",
              "      <th>...</th>\n",
              "      <td>...</td>\n",
              "      <td>...</td>\n",
              "    </tr>\n",
              "    <tr>\n",
              "      <th>9995</th>\n",
              "      <td>pos</td>\n",
              "      <td>a revelation of life in small town america in ...</td>\n",
              "    </tr>\n",
              "    <tr>\n",
              "      <th>9996</th>\n",
              "      <td>pos</td>\n",
              "      <td>great biography of a very interesting journali...</td>\n",
              "    </tr>\n",
              "    <tr>\n",
              "      <th>9997</th>\n",
              "      <td>neg</td>\n",
              "      <td>interesting subject poor presentation you woul...</td>\n",
              "    </tr>\n",
              "    <tr>\n",
              "      <th>9998</th>\n",
              "      <td>neg</td>\n",
              "      <td>do not buy the box looked used and it is obvio...</td>\n",
              "    </tr>\n",
              "    <tr>\n",
              "      <th>9999</th>\n",
              "      <td>pos</td>\n",
              "      <td>beautiful pen and fast delivery the pen was sh...</td>\n",
              "    </tr>\n",
              "  </tbody>\n",
              "</table>\n",
              "<p>10000 rows × 2 columns</p>\n",
              "</div>"
            ],
            "text/plain": [
              "     label                                             review\n",
              "0      pos  stuning even for the nongamer this sound track...\n",
              "1      pos  the best soundtrack ever to anything I am read...\n",
              "2      pos  amazing this soundtrack is my favorite music o...\n",
              "3      pos  excellent soundtrack i truly like this soundtr...\n",
              "4      pos  remember pull your jaw off the floor after hea...\n",
              "...    ...                                                ...\n",
              "9995   pos  a revelation of life in small town america in ...\n",
              "9996   pos  great biography of a very interesting journali...\n",
              "9997   neg  interesting subject poor presentation you woul...\n",
              "9998   neg  do not buy the box looked used and it is obvio...\n",
              "9999   pos  beautiful pen and fast delivery the pen was sh...\n",
              "\n",
              "[10000 rows x 2 columns]"
            ]
          },
          "metadata": {
            "tags": []
          },
          "execution_count": 14
        }
      ]
    },
    {
      "cell_type": "code",
      "metadata": {
        "id": "0TMzky4t5uJx"
      },
      "source": [
        "import string\n",
        "punctuations=list(string.punctuation)"
      ],
      "execution_count": 15,
      "outputs": []
    },
    {
      "cell_type": "code",
      "metadata": {
        "id": "gAVP-5pw597-"
      },
      "source": [
        "df.review=df.review.apply(lambda x : \" \".join(x for x in x.split() if x not in punctuations))"
      ],
      "execution_count": 16,
      "outputs": []
    },
    {
      "cell_type": "code",
      "metadata": {
        "id": "RtYAS4cp00cb",
        "colab": {
          "base_uri": "https://localhost:8080/"
        },
        "outputId": "8324d87c-df45-458c-df7d-990f775d45e0"
      },
      "source": [
        "# Removing stopwords\n",
        "nltk.download('stopwords')\n",
        "stopword_list=stopwords.words('english')\n"
      ],
      "execution_count": 17,
      "outputs": [
        {
          "output_type": "stream",
          "text": [
            "[nltk_data] Downloading package stopwords to /root/nltk_data...\n",
            "[nltk_data]   Unzipping corpora/stopwords.zip.\n"
          ],
          "name": "stdout"
        }
      ]
    },
    {
      "cell_type": "code",
      "metadata": {
        "id": "mgyp901z1I5t"
      },
      "source": [
        "stopword_list.remove('no')\n",
        "stopword_list.remove('not')\n"
      ],
      "execution_count": 18,
      "outputs": []
    },
    {
      "cell_type": "code",
      "metadata": {
        "id": "bk3XB2xg1SBN",
        "colab": {
          "base_uri": "https://localhost:8080/",
          "height": 109
        },
        "outputId": "6e2d068b-3908-4dd8-b64b-cb81f90b2d4f"
      },
      "source": [
        "df.review=df.review.apply(lambda x : \" \".join(x for x in x.split() if x not in stopword_list))\n",
        "df['review'][5]"
      ],
      "execution_count": 19,
      "outputs": [
        {
          "output_type": "execute_result",
          "data": {
            "application/vnd.google.colaboratory.intrinsic+json": {
              "type": "string"
            },
            "text/plain": [
              "'absolute masterpiece quite sure actually taking time read played game least heard least tracks whether aware not mitsudas music contributed greatly mood every single minute whole gamecomposed 3 cds quite songs not exact count heartrendering impressively remarkable soundtrack one assure not forget everything every listener fastpaced energetic dancing tokage termina home slower haunting dragon god purely beautifully composed times scar even fantastic vocals radical dreamersthis one best videogame soundtracks surely mitsudas best ever'"
            ]
          },
          "metadata": {
            "tags": []
          },
          "execution_count": 19
        }
      ]
    },
    {
      "cell_type": "code",
      "metadata": {
        "id": "RUFQTX2p6cQO",
        "colab": {
          "base_uri": "https://localhost:8080/"
        },
        "outputId": "9daf8eb5-5d4d-45e8-defc-0219667c9d6c"
      },
      "source": [
        "nltk.download('punkt')"
      ],
      "execution_count": 20,
      "outputs": [
        {
          "output_type": "stream",
          "text": [
            "[nltk_data] Downloading package punkt to /root/nltk_data...\n",
            "[nltk_data]   Unzipping tokenizers/punkt.zip.\n"
          ],
          "name": "stdout"
        },
        {
          "output_type": "execute_result",
          "data": {
            "text/plain": [
              "True"
            ]
          },
          "metadata": {
            "tags": []
          },
          "execution_count": 20
        }
      ]
    },
    {
      "cell_type": "code",
      "metadata": {
        "id": "On5HcPrW84Hy",
        "colab": {
          "base_uri": "https://localhost:8080/"
        },
        "outputId": "d91fa9d5-207c-44ab-b751-d1eced779ece"
      },
      "source": [
        "df['review']=df.review.apply(word_tokenize)\n",
        "df['review'][0]\n"
      ],
      "execution_count": 21,
      "outputs": [
        {
          "output_type": "execute_result",
          "data": {
            "text/plain": [
              "['stuning',\n",
              " 'even',\n",
              " 'nongamer',\n",
              " 'sound',\n",
              " 'track',\n",
              " 'beautiful',\n",
              " 'paints',\n",
              " 'senery',\n",
              " 'mind',\n",
              " 'well',\n",
              " 'would',\n",
              " 'recomend',\n",
              " 'even',\n",
              " 'people',\n",
              " 'hate',\n",
              " 'vid',\n",
              " 'game',\n",
              " 'music',\n",
              " 'played',\n",
              " 'game',\n",
              " 'chrono',\n",
              " 'cross',\n",
              " 'games',\n",
              " 'ever',\n",
              " 'played',\n",
              " 'best',\n",
              " 'music',\n",
              " 'backs',\n",
              " 'away',\n",
              " 'crude',\n",
              " 'keyboarding',\n",
              " 'takes',\n",
              " 'fresher',\n",
              " 'step',\n",
              " 'grate',\n",
              " 'guitars',\n",
              " 'soulful',\n",
              " 'orchestras',\n",
              " 'would',\n",
              " 'impress',\n",
              " 'anyone',\n",
              " 'cares',\n",
              " 'listen']"
            ]
          },
          "metadata": {
            "tags": []
          },
          "execution_count": 21
        }
      ]
    },
    {
      "cell_type": "code",
      "metadata": {
        "id": "22Dm8e8u-Sfy",
        "colab": {
          "base_uri": "https://localhost:8080/"
        },
        "outputId": "62371943-34eb-4a07-c4b3-fc9e22bb8855"
      },
      "source": [
        "nltk.download('wordnet')"
      ],
      "execution_count": 22,
      "outputs": [
        {
          "output_type": "stream",
          "text": [
            "[nltk_data] Downloading package wordnet to /root/nltk_data...\n",
            "[nltk_data]   Unzipping corpora/wordnet.zip.\n"
          ],
          "name": "stdout"
        },
        {
          "output_type": "execute_result",
          "data": {
            "text/plain": [
              "True"
            ]
          },
          "metadata": {
            "tags": []
          },
          "execution_count": 22
        }
      ]
    },
    {
      "cell_type": "code",
      "metadata": {
        "id": "MVQL8PSo-_0J"
      },
      "source": [
        "lemmatizer=WordNetLemmatizer()\n"
      ],
      "execution_count": 23,
      "outputs": []
    },
    {
      "cell_type": "code",
      "metadata": {
        "id": "I0w6wG_t_UAw"
      },
      "source": [
        "df['review']=df.review.apply(lambda x:[lemmatizer.lemmatize(word) for word in x])"
      ],
      "execution_count": 24,
      "outputs": []
    },
    {
      "cell_type": "code",
      "metadata": {
        "id": "DtrZezLmgB-6",
        "colab": {
          "base_uri": "https://localhost:8080/",
          "height": 424
        },
        "outputId": "7b2760a8-3cc4-45ea-e728-caa32261d140"
      },
      "source": [
        "df\n"
      ],
      "execution_count": 25,
      "outputs": [
        {
          "output_type": "execute_result",
          "data": {
            "text/html": [
              "<div>\n",
              "<style scoped>\n",
              "    .dataframe tbody tr th:only-of-type {\n",
              "        vertical-align: middle;\n",
              "    }\n",
              "\n",
              "    .dataframe tbody tr th {\n",
              "        vertical-align: top;\n",
              "    }\n",
              "\n",
              "    .dataframe thead th {\n",
              "        text-align: right;\n",
              "    }\n",
              "</style>\n",
              "<table border=\"1\" class=\"dataframe\">\n",
              "  <thead>\n",
              "    <tr style=\"text-align: right;\">\n",
              "      <th></th>\n",
              "      <th>label</th>\n",
              "      <th>review</th>\n",
              "    </tr>\n",
              "  </thead>\n",
              "  <tbody>\n",
              "    <tr>\n",
              "      <th>0</th>\n",
              "      <td>pos</td>\n",
              "      <td>[stuning, even, nongamer, sound, track, beauti...</td>\n",
              "    </tr>\n",
              "    <tr>\n",
              "      <th>1</th>\n",
              "      <td>pos</td>\n",
              "      <td>[best, soundtrack, ever, anything, I, reading,...</td>\n",
              "    </tr>\n",
              "    <tr>\n",
              "      <th>2</th>\n",
              "      <td>pos</td>\n",
              "      <td>[amazing, soundtrack, favorite, music, time, h...</td>\n",
              "    </tr>\n",
              "    <tr>\n",
              "      <th>3</th>\n",
              "      <td>pos</td>\n",
              "      <td>[excellent, soundtrack, truly, like, soundtrac...</td>\n",
              "    </tr>\n",
              "    <tr>\n",
              "      <th>4</th>\n",
              "      <td>pos</td>\n",
              "      <td>[remember, pull, jaw, floor, hearing, played, ...</td>\n",
              "    </tr>\n",
              "    <tr>\n",
              "      <th>...</th>\n",
              "      <td>...</td>\n",
              "      <td>...</td>\n",
              "    </tr>\n",
              "    <tr>\n",
              "      <th>9995</th>\n",
              "      <td>pos</td>\n",
              "      <td>[revelation, life, small, town, america, early...</td>\n",
              "    </tr>\n",
              "    <tr>\n",
              "      <th>9996</th>\n",
              "      <td>pos</td>\n",
              "      <td>[great, biography, interesting, journalist, bi...</td>\n",
              "    </tr>\n",
              "    <tr>\n",
              "      <th>9997</th>\n",
              "      <td>neg</td>\n",
              "      <td>[interesting, subject, poor, presentation, wou...</td>\n",
              "    </tr>\n",
              "    <tr>\n",
              "      <th>9998</th>\n",
              "      <td>neg</td>\n",
              "      <td>[not, buy, box, looked, used, obviously, not, ...</td>\n",
              "    </tr>\n",
              "    <tr>\n",
              "      <th>9999</th>\n",
              "      <td>pos</td>\n",
              "      <td>[beautiful, pen, fast, delivery, pen, shipped,...</td>\n",
              "    </tr>\n",
              "  </tbody>\n",
              "</table>\n",
              "<p>10000 rows × 2 columns</p>\n",
              "</div>"
            ],
            "text/plain": [
              "     label                                             review\n",
              "0      pos  [stuning, even, nongamer, sound, track, beauti...\n",
              "1      pos  [best, soundtrack, ever, anything, I, reading,...\n",
              "2      pos  [amazing, soundtrack, favorite, music, time, h...\n",
              "3      pos  [excellent, soundtrack, truly, like, soundtrac...\n",
              "4      pos  [remember, pull, jaw, floor, hearing, played, ...\n",
              "...    ...                                                ...\n",
              "9995   pos  [revelation, life, small, town, america, early...\n",
              "9996   pos  [great, biography, interesting, journalist, bi...\n",
              "9997   neg  [interesting, subject, poor, presentation, wou...\n",
              "9998   neg  [not, buy, box, looked, used, obviously, not, ...\n",
              "9999   pos  [beautiful, pen, fast, delivery, pen, shipped,...\n",
              "\n",
              "[10000 rows x 2 columns]"
            ]
          },
          "metadata": {
            "tags": []
          },
          "execution_count": 25
        }
      ]
    },
    {
      "cell_type": "code",
      "metadata": {
        "id": "nW2bJe8MLT72"
      },
      "source": [
        "\n",
        "\n",
        "df.review= df.review.astype(str)\n",
        "\n"
      ],
      "execution_count": 26,
      "outputs": []
    },
    {
      "cell_type": "code",
      "metadata": {
        "id": "wbY0gxoVbZwA",
        "colab": {
          "base_uri": "https://localhost:8080/"
        },
        "outputId": "063c1f0c-b2d2-4e58-aa37-1820099b2e46"
      },
      "source": [
        "import numpy as np\n",
        "review_list=df['review'].array\n",
        "review_list.shape\n"
      ],
      "execution_count": 27,
      "outputs": [
        {
          "output_type": "execute_result",
          "data": {
            "text/plain": [
              "(10000,)"
            ]
          },
          "metadata": {
            "tags": []
          },
          "execution_count": 27
        }
      ]
    },
    {
      "cell_type": "code",
      "metadata": {
        "id": "sbH1PlWjQVpP"
      },
      "source": [
        "x = df.iloc[:,1].values\n",
        "y = df.iloc[:,0].values"
      ],
      "execution_count": 28,
      "outputs": []
    },
    {
      "cell_type": "code",
      "metadata": {
        "id": "1YINHBKlRBO-",
        "colab": {
          "base_uri": "https://localhost:8080/"
        },
        "outputId": "26d02c02-224f-48b2-afce-e11193b79ed4"
      },
      "source": [
        "from sklearn.model_selection import train_test_split\n",
        "x_train,x_test,y_train,y_test = train_test_split(x,y,random_state=0)\n",
        "\n",
        "sklearn_version = sklearn.__version__\n",
        "\n",
        "\n",
        "print(sklearn_version)"
      ],
      "execution_count": 29,
      "outputs": [
        {
          "output_type": "stream",
          "text": [
            "0.22.2.post1\n"
          ],
          "name": "stdout"
        }
      ]
    },
    {
      "cell_type": "code",
      "metadata": {
        "colab": {
          "base_uri": "https://localhost:8080/"
        },
        "id": "XLg8QhPKjj9l",
        "outputId": "d37b1651-86ac-4aa3-ea96-b6abf5f2db1a"
      },
      "source": [
        "import sklearn\n",
        "sklearn_version = sklearn.__version__\n",
        "print(sklearn_version)"
      ],
      "execution_count": 5,
      "outputs": [
        {
          "output_type": "stream",
          "text": [
            "0.22.2.post1\n"
          ],
          "name": "stdout"
        }
      ]
    },
    {
      "cell_type": "code",
      "metadata": {
        "id": "nPvuXLznSTuL",
        "colab": {
          "base_uri": "https://localhost:8080/"
        },
        "outputId": "3d0bf747-22ce-4e41-f4cc-6559fef49ec7"
      },
      "source": [
        "print(x_train.shape)\n",
        "x_test.shape\n"
      ],
      "execution_count": 24,
      "outputs": [
        {
          "output_type": "stream",
          "text": [
            "(7500,)\n"
          ],
          "name": "stdout"
        },
        {
          "output_type": "execute_result",
          "data": {
            "text/plain": [
              "(2500,)"
            ]
          },
          "metadata": {
            "tags": []
          },
          "execution_count": 24
        }
      ]
    },
    {
      "cell_type": "code",
      "metadata": {
        "id": "dGmg1TGiRGJZ",
        "colab": {
          "base_uri": "https://localhost:8080/"
        },
        "outputId": "c6dbddf7-b63e-4ec2-8b86-08cc80f4638a"
      },
      "source": [
        "from sklearn.feature_extraction.text import TfidfVectorizer\n",
        "from sklearn.pipeline import Pipeline\n",
        "from sklearn.svm import SVC\n",
        "sklearn_version = sklearn.__version__\n",
        "print(sklearn_version)"
      ],
      "execution_count": 30,
      "outputs": [
        {
          "output_type": "stream",
          "text": [
            "0.22.2.post1\n"
          ],
          "name": "stdout"
        }
      ]
    },
    {
      "cell_type": "code",
      "metadata": {
        "id": "AgkMEEf9RM68"
      },
      "source": [
        "final = Pipeline([('Vect',TfidfVectorizer()),\n",
        "                  ('model',SVC(probability=True))])"
      ],
      "execution_count": 31,
      "outputs": []
    },
    {
      "cell_type": "code",
      "metadata": {
        "id": "fL2hU_CyRQlv",
        "colab": {
          "base_uri": "https://localhost:8080/"
        },
        "outputId": "a56299c6-072c-439d-e83b-265663032613"
      },
      "source": [
        "final.fit(x_train,y_train)\n"
      ],
      "execution_count": 32,
      "outputs": [
        {
          "output_type": "execute_result",
          "data": {
            "text/plain": [
              "Pipeline(memory=None,\n",
              "         steps=[('Vect',\n",
              "                 TfidfVectorizer(analyzer='word', binary=False,\n",
              "                                 decode_error='strict',\n",
              "                                 dtype=<class 'numpy.float64'>,\n",
              "                                 encoding='utf-8', input='content',\n",
              "                                 lowercase=True, max_df=1.0, max_features=None,\n",
              "                                 min_df=1, ngram_range=(1, 1), norm='l2',\n",
              "                                 preprocessor=None, smooth_idf=True,\n",
              "                                 stop_words=None, strip_accents=None,\n",
              "                                 sublinear_tf=False,\n",
              "                                 token_pattern='(?u)\\\\b\\\\w\\\\w+\\\\b',\n",
              "                                 tokenizer=None, use_idf=True,\n",
              "                                 vocabulary=None)),\n",
              "                ('model',\n",
              "                 SVC(C=1.0, break_ties=False, cache_size=200, class_weight=None,\n",
              "                     coef0=0.0, decision_function_shape='ovr', degree=3,\n",
              "                     gamma='scale', kernel='rbf', max_iter=-1, probability=True,\n",
              "                     random_state=None, shrinking=True, tol=0.001,\n",
              "                     verbose=False))],\n",
              "         verbose=False)"
            ]
          },
          "metadata": {
            "tags": []
          },
          "execution_count": 32
        }
      ]
    },
    {
      "cell_type": "code",
      "metadata": {
        "id": "8EPvSWmnRZTR",
        "colab": {
          "base_uri": "https://localhost:8080/"
        },
        "outputId": "612a3fcc-c069-4195-de4d-81dccfb8193e"
      },
      "source": [
        "y_pred=final.predict(x_test)\n",
        "y_pred"
      ],
      "execution_count": 33,
      "outputs": [
        {
          "output_type": "execute_result",
          "data": {
            "text/plain": [
              "array(['neg', 'pos', 'neg', ..., 'neg', 'neg', 'pos'], dtype=object)"
            ]
          },
          "metadata": {
            "tags": []
          },
          "execution_count": 33
        }
      ]
    },
    {
      "cell_type": "code",
      "metadata": {
        "id": "qVIlJBYgtF6r",
        "colab": {
          "base_uri": "https://localhost:8080/"
        },
        "outputId": "aafdb264-715d-4f1f-e341-6152289dd1e9"
      },
      "source": [
        "y_test"
      ],
      "execution_count": 34,
      "outputs": [
        {
          "output_type": "execute_result",
          "data": {
            "text/plain": [
              "array(['neg', 'pos', 'neg', ..., 'pos', 'neg', 'pos'], dtype=object)"
            ]
          },
          "metadata": {
            "tags": []
          },
          "execution_count": 34
        }
      ]
    },
    {
      "cell_type": "code",
      "metadata": {
        "id": "Z42Gt3jjtYeD",
        "colab": {
          "base_uri": "https://localhost:8080/"
        },
        "outputId": "aeec8d62-3c38-42c5-c6f0-3460954eb33c"
      },
      "source": [
        "from sklearn.metrics import accuracy_score,classification_report, confusion_matrix\n",
        "sklearn_version = sklearn.__version__\n",
        "print(sklearn_version)"
      ],
      "execution_count": 36,
      "outputs": [
        {
          "output_type": "stream",
          "text": [
            "0.22.2.post1\n"
          ],
          "name": "stdout"
        }
      ]
    },
    {
      "cell_type": "code",
      "metadata": {
        "id": "wwYGPDibtk7J",
        "colab": {
          "base_uri": "https://localhost:8080/"
        },
        "outputId": "24710977-a15a-4188-a876-36e5197d50ff"
      },
      "source": [
        "accuracy_score(y_pred,y_test)"
      ],
      "execution_count": 37,
      "outputs": [
        {
          "output_type": "execute_result",
          "data": {
            "text/plain": [
              "0.8796"
            ]
          },
          "metadata": {
            "tags": []
          },
          "execution_count": 37
        }
      ]
    },
    {
      "cell_type": "code",
      "metadata": {
        "id": "11HtER79tl5e",
        "colab": {
          "base_uri": "https://localhost:8080/"
        },
        "outputId": "8c0e65fb-2bf4-4a80-9cc9-5a1ceabea6a3"
      },
      "source": [
        "confusion_matrix(y_pred,y_test)"
      ],
      "execution_count": 38,
      "outputs": [
        {
          "output_type": "execute_result",
          "data": {
            "text/plain": [
              "array([[1104,  156],\n",
              "       [ 145, 1095]])"
            ]
          },
          "metadata": {
            "tags": []
          },
          "execution_count": 38
        }
      ]
    },
    {
      "cell_type": "code",
      "metadata": {
        "id": "0PMfJmFutqDk",
        "colab": {
          "base_uri": "https://localhost:8080/"
        },
        "outputId": "6bdb6710-17b1-47d5-e8bc-bdb1cb8d6b57"
      },
      "source": [
        "print(classification_report(y_pred,y_test))"
      ],
      "execution_count": 39,
      "outputs": [
        {
          "output_type": "stream",
          "text": [
            "              precision    recall  f1-score   support\n",
            "\n",
            "         neg       0.88      0.88      0.88      1260\n",
            "         pos       0.88      0.88      0.88      1240\n",
            "\n",
            "    accuracy                           0.88      2500\n",
            "   macro avg       0.88      0.88      0.88      2500\n",
            "weighted avg       0.88      0.88      0.88      2500\n",
            "\n"
          ],
          "name": "stdout"
        }
      ]
    },
    {
      "cell_type": "code",
      "metadata": {
        "id": "TrtaFfgstuR-",
        "colab": {
          "base_uri": "https://localhost:8080/",
          "height": 146
        },
        "outputId": "700575b9-1b41-4089-bfea-d32c3bae7220"
      },
      "source": [
        "x_test[1]"
      ],
      "execution_count": 40,
      "outputs": [
        {
          "output_type": "execute_result",
          "data": {
            "application/vnd.google.colaboratory.intrinsic+json": {
              "type": "string"
            },
            "text/plain": [
              "\"['one', 'greatest', 'book', 'ever', 'written', 'scarlet', 'letter', 'excellent', 'book', 'hawthorne', 'spends', 'much', 'time', 'discussing', 'character', 'thought', 'motif', 'end', 'book', 'understand', 'people', 'act', 'way', 'make', 'seem', 'almost', 'real', 'relates', 'nature', 'character', 'experiencing', 'make', 'story', 'even', 'powerful', 'one', 'place', 'told', 'rose', 'bush', 'grew', 'prison', 'seemed', 'nature', 'saying', 'even', 'though', 'people', 'abandoned', 'someone', 'could', 'always', 'count', 'nature', 'love', 'beautifully', 'written', 'story', 'adultery', 'jealous', 'spouse', 'happens', 'day', 'make', 'scarlet', 'letter', 'relate', 'reader', 'great', 'book', 'feel', 'one', 'best', 'ever', 'written']\""
            ]
          },
          "metadata": {
            "tags": []
          },
          "execution_count": 40
        }
      ]
    },
    {
      "cell_type": "code",
      "metadata": {
        "id": "XuLLUBgPt9By",
        "colab": {
          "base_uri": "https://localhost:8080/"
        },
        "outputId": "a9d7c5ff-ec8e-443a-eeba-ff7bcffe93e0"
      },
      "source": [
        "final.predict([x_test[1]])"
      ],
      "execution_count": 41,
      "outputs": [
        {
          "output_type": "execute_result",
          "data": {
            "text/plain": [
              "array(['pos'], dtype=object)"
            ]
          },
          "metadata": {
            "tags": []
          },
          "execution_count": 41
        }
      ]
    },
    {
      "cell_type": "code",
      "metadata": {
        "id": "wJaX5T9duILs",
        "colab": {
          "base_uri": "https://localhost:8080/",
          "height": 72
        },
        "outputId": "a465c4e2-b71a-457a-fd1a-562ee09ccab6"
      },
      "source": [
        "x_test[7]"
      ],
      "execution_count": 42,
      "outputs": [
        {
          "output_type": "execute_result",
          "data": {
            "application/vnd.google.colaboratory.intrinsic+json": {
              "type": "string"
            },
            "text/plain": [
              "\"['boring', 'not', 'waste', 'time', 'movie', 'boring', 'looking', 'forward', 'bash', 'america', 'flying', 'scene', 'look', 'fakelong', 'boring', 'love', 'story', 'end', 'character', 'not', 'finding', 'otherrent', 'buy', 'blue', 'max', 'much', 'better']\""
            ]
          },
          "metadata": {
            "tags": []
          },
          "execution_count": 42
        }
      ]
    },
    {
      "cell_type": "code",
      "metadata": {
        "id": "pLzGvej4udT7",
        "colab": {
          "base_uri": "https://localhost:8080/"
        },
        "outputId": "6ffc22b8-84f1-4bb2-ee85-f9c00400be2c"
      },
      "source": [
        "final.predict([x_test[7]])"
      ],
      "execution_count": 43,
      "outputs": [
        {
          "output_type": "execute_result",
          "data": {
            "text/plain": [
              "array(['neg'], dtype=object)"
            ]
          },
          "metadata": {
            "tags": []
          },
          "execution_count": 43
        }
      ]
    },
    {
      "cell_type": "code",
      "metadata": {
        "id": "6Pg4GM8OugPl",
        "colab": {
          "base_uri": "https://localhost:8080/",
          "height": 128
        },
        "outputId": "6f5ad8b4-24da-4248-8d70-049e80f6cc64"
      },
      "source": [
        "x_test[17]"
      ],
      "execution_count": 44,
      "outputs": [
        {
          "output_type": "execute_result",
          "data": {
            "application/vnd.google.colaboratory.intrinsic+json": {
              "type": "string"
            },
            "text/plain": [
              "\"['another', 'nightmare', 'remove', 'cassette', 'message', 'camera', '18', 'month', '2', 'month', 'ago', 'started', 'beeping', 'eject', 'tape', 'almost', 'every', 'time', 'used', 'went', 'online', 'found', 'common', 'camera', 'reason', 'able', 'prevent', 'major', 'problem', 'removing', 'tape', 'use', 'no', 'longer', 'work', 'can', 'not', 'record', 'watch', 'tape', 'without', 'forcing', 'remove', 'cassette', 'fond', 'camera', 'stopped', 'working', 'disappointed', 'buy', 'new', 'camcorder', 'local', 'repairman', 'estimated', '200', 'fix', 'friend', 'exact', 'camera', 'yet', 'problem', 'not', 'worth', 'risk']\""
            ]
          },
          "metadata": {
            "tags": []
          },
          "execution_count": 44
        }
      ]
    },
    {
      "cell_type": "code",
      "metadata": {
        "id": "oxeNpjnKulWI",
        "colab": {
          "base_uri": "https://localhost:8080/"
        },
        "outputId": "2bd63242-f610-4c99-d474-196ec311c122"
      },
      "source": [
        "final.predict([x_test[17]])"
      ],
      "execution_count": 45,
      "outputs": [
        {
          "output_type": "execute_result",
          "data": {
            "text/plain": [
              "array(['neg'], dtype=object)"
            ]
          },
          "metadata": {
            "tags": []
          },
          "execution_count": 45
        }
      ]
    },
    {
      "cell_type": "code",
      "metadata": {
        "id": "sFodDcoEuofj"
      },
      "source": [
        "import pickle\n",
        "pickle.dump(final,open('sentiment_analysis_model.p','wb'))"
      ],
      "execution_count": 46,
      "outputs": []
    },
    {
      "cell_type": "code",
      "metadata": {
        "id": "QAI27Utei8SU",
        "colab": {
          "base_uri": "https://localhost:8080/",
          "height": 1000
        },
        "outputId": "a3947a69-2a9c-4028-aeec-68efac5a6104"
      },
      "source": [
        "!pip install streamlit\n",
        "!pip install pyngrok===4.1.1\n",
        "from pyngrok import ngrok"
      ],
      "execution_count": 47,
      "outputs": [
        {
          "output_type": "stream",
          "text": [
            "Collecting streamlit\n",
            "\u001b[?25l  Downloading https://files.pythonhosted.org/packages/f9/91/5b62c39a4e382e1c376405e73891c4426af576f507281bc2bb896ac1d028/streamlit-0.71.0-py2.py3-none-any.whl (7.4MB)\n",
            "\u001b[K     |████████████████████████████████| 7.4MB 4.2MB/s \n",
            "\u001b[?25hCollecting enum-compat\n",
            "  Downloading https://files.pythonhosted.org/packages/55/ae/467bc4509246283bb59746e21a1a2f5a8aecbef56b1fa6eaca78cd438c8b/enum_compat-0.0.3-py3-none-any.whl\n",
            "Requirement already satisfied: cachetools>=4.0 in /usr/local/lib/python3.6/dist-packages (from streamlit) (4.1.1)\n",
            "Collecting gitpython\n",
            "\u001b[?25l  Downloading https://files.pythonhosted.org/packages/24/d1/a7f8fe3df258549b303415157328bfcc63e9b11d06a7ad7a3327f3d32606/GitPython-3.1.11-py3-none-any.whl (159kB)\n",
            "\u001b[K     |████████████████████████████████| 163kB 45.0MB/s \n",
            "\u001b[?25hRequirement already satisfied: requests in /usr/local/lib/python3.6/dist-packages (from streamlit) (2.23.0)\n",
            "Requirement already satisfied: tzlocal in /usr/local/lib/python3.6/dist-packages (from streamlit) (1.5.1)\n",
            "Collecting pydeck>=0.1.dev5\n",
            "\u001b[?25l  Downloading https://files.pythonhosted.org/packages/9e/9d/8fbf1f56cc5891e6c3295bf94fc176e9ab0a3ffdd090cc8b354ac2640f9a/pydeck-0.5.0-py2.py3-none-any.whl (4.5MB)\n",
            "\u001b[K     |████████████████████████████████| 4.5MB 49.1MB/s \n",
            "\u001b[?25hCollecting watchdog\n",
            "\u001b[?25l  Downloading https://files.pythonhosted.org/packages/6f/10/500580a0987363a0d9e1f3dd5cb1bba94a47e19266c6ce9dfb6cdd455758/watchdog-0.10.4.tar.gz (98kB)\n",
            "\u001b[K     |████████████████████████████████| 102kB 11.8MB/s \n",
            "\u001b[?25hRequirement already satisfied: packaging in /usr/local/lib/python3.6/dist-packages (from streamlit) (20.4)\n",
            "Requirement already satisfied: click>=7.0 in /usr/local/lib/python3.6/dist-packages (from streamlit) (7.1.2)\n",
            "Collecting botocore>=1.13.44\n",
            "\u001b[?25l  Downloading https://files.pythonhosted.org/packages/ef/d5/c0c33ca15e31062220ac5964f3492409eaf90a5cf5399503cd8264f2f8e9/botocore-1.19.25-py2.py3-none-any.whl (6.9MB)\n",
            "\u001b[K     |████████████████████████████████| 6.9MB 47.5MB/s \n",
            "\u001b[?25hRequirement already satisfied: toml in /usr/local/lib/python3.6/dist-packages (from streamlit) (0.10.2)\n",
            "Requirement already satisfied: tornado>=5.0 in /usr/local/lib/python3.6/dist-packages (from streamlit) (5.1.1)\n",
            "Requirement already satisfied: pillow>=6.2.0 in /usr/local/lib/python3.6/dist-packages (from streamlit) (7.0.0)\n",
            "Requirement already satisfied: python-dateutil in /usr/local/lib/python3.6/dist-packages (from streamlit) (2.8.1)\n",
            "Collecting boto3\n",
            "\u001b[?25l  Downloading https://files.pythonhosted.org/packages/59/7f/4ade91fbb684c6f28a6e56028d9f9d2de4297761850d083579779f07c0de/boto3-1.16.25-py2.py3-none-any.whl (129kB)\n",
            "\u001b[K     |████████████████████████████████| 133kB 48.7MB/s \n",
            "\u001b[?25hRequirement already satisfied: protobuf!=3.11,>=3.6.0 in /usr/local/lib/python3.6/dist-packages (from streamlit) (3.12.4)\n",
            "Requirement already satisfied: pandas>=0.21.0 in /usr/local/lib/python3.6/dist-packages (from streamlit) (1.1.4)\n",
            "Requirement already satisfied: astor in /usr/local/lib/python3.6/dist-packages (from streamlit) (0.8.1)\n",
            "Requirement already satisfied: numpy in /usr/local/lib/python3.6/dist-packages (from streamlit) (1.18.5)\n",
            "Requirement already satisfied: pyarrow in /usr/local/lib/python3.6/dist-packages (from streamlit) (0.14.1)\n",
            "Requirement already satisfied: altair>=3.2.0 in /usr/local/lib/python3.6/dist-packages (from streamlit) (4.1.0)\n",
            "Collecting validators\n",
            "  Downloading https://files.pythonhosted.org/packages/41/4a/3360ff3cf2b4a1b9721ac1fbff5f84663f41047d9874b3aa1ac82e862c44/validators-0.18.1-py3-none-any.whl\n",
            "Collecting base58\n",
            "  Downloading https://files.pythonhosted.org/packages/3c/03/58572025c77b9e6027155b272a1b96298e711cd4f95c24967f7137ab0c4b/base58-2.0.1-py3-none-any.whl\n",
            "Collecting blinker\n",
            "\u001b[?25l  Downloading https://files.pythonhosted.org/packages/1b/51/e2a9f3b757eb802f61dc1f2b09c8c99f6eb01cf06416c0671253536517b6/blinker-1.4.tar.gz (111kB)\n",
            "\u001b[K     |████████████████████████████████| 112kB 51.0MB/s \n",
            "\u001b[?25hCollecting gitdb<5,>=4.0.1\n",
            "\u001b[?25l  Downloading https://files.pythonhosted.org/packages/48/11/d1800bca0a3bae820b84b7d813ad1eff15a48a64caea9c823fc8c1b119e8/gitdb-4.0.5-py3-none-any.whl (63kB)\n",
            "\u001b[K     |████████████████████████████████| 71kB 9.1MB/s \n",
            "\u001b[?25hRequirement already satisfied: urllib3!=1.25.0,!=1.25.1,<1.26,>=1.21.1 in /usr/local/lib/python3.6/dist-packages (from requests->streamlit) (1.24.3)\n",
            "Requirement already satisfied: idna<3,>=2.5 in /usr/local/lib/python3.6/dist-packages (from requests->streamlit) (2.10)\n",
            "Requirement already satisfied: chardet<4,>=3.0.2 in /usr/local/lib/python3.6/dist-packages (from requests->streamlit) (3.0.4)\n",
            "Requirement already satisfied: certifi>=2017.4.17 in /usr/local/lib/python3.6/dist-packages (from requests->streamlit) (2020.11.8)\n",
            "Requirement already satisfied: pytz in /usr/local/lib/python3.6/dist-packages (from tzlocal->streamlit) (2018.9)\n",
            "Requirement already satisfied: ipywidgets>=7.0.0 in /usr/local/lib/python3.6/dist-packages (from pydeck>=0.1.dev5->streamlit) (7.5.1)\n",
            "Requirement already satisfied: traitlets>=4.3.2 in /usr/local/lib/python3.6/dist-packages (from pydeck>=0.1.dev5->streamlit) (4.3.3)\n",
            "Requirement already satisfied: jinja2>=2.10.1 in /usr/local/lib/python3.6/dist-packages (from pydeck>=0.1.dev5->streamlit) (2.11.2)\n",
            "Collecting ipykernel>=5.1.2; python_version >= \"3.4\"\n",
            "\u001b[?25l  Downloading https://files.pythonhosted.org/packages/52/19/c2812690d8b340987eecd2cbc18549b1d130b94c5d97fcbe49f5f8710edf/ipykernel-5.3.4-py3-none-any.whl (120kB)\n",
            "\u001b[K     |████████████████████████████████| 122kB 50.5MB/s \n",
            "\u001b[?25hCollecting pathtools>=0.1.1\n",
            "  Downloading https://files.pythonhosted.org/packages/e7/7f/470d6fcdf23f9f3518f6b0b76be9df16dcc8630ad409947f8be2eb0ed13a/pathtools-0.1.2.tar.gz\n",
            "Requirement already satisfied: six in /usr/local/lib/python3.6/dist-packages (from packaging->streamlit) (1.15.0)\n",
            "Requirement already satisfied: pyparsing>=2.0.2 in /usr/local/lib/python3.6/dist-packages (from packaging->streamlit) (2.4.7)\n",
            "Collecting jmespath<1.0.0,>=0.7.1\n",
            "  Downloading https://files.pythonhosted.org/packages/07/cb/5f001272b6faeb23c1c9e0acc04d48eaaf5c862c17709d20e3469c6e0139/jmespath-0.10.0-py2.py3-none-any.whl\n",
            "Collecting s3transfer<0.4.0,>=0.3.0\n",
            "\u001b[?25l  Downloading https://files.pythonhosted.org/packages/69/79/e6afb3d8b0b4e96cefbdc690f741d7dd24547ff1f94240c997a26fa908d3/s3transfer-0.3.3-py2.py3-none-any.whl (69kB)\n",
            "\u001b[K     |████████████████████████████████| 71kB 9.2MB/s \n",
            "\u001b[?25hRequirement already satisfied: setuptools in /usr/local/lib/python3.6/dist-packages (from protobuf!=3.11,>=3.6.0->streamlit) (50.3.2)\n",
            "Requirement already satisfied: toolz in /usr/local/lib/python3.6/dist-packages (from altair>=3.2.0->streamlit) (0.11.1)\n",
            "Requirement already satisfied: jsonschema in /usr/local/lib/python3.6/dist-packages (from altair>=3.2.0->streamlit) (2.6.0)\n",
            "Requirement already satisfied: entrypoints in /usr/local/lib/python3.6/dist-packages (from altair>=3.2.0->streamlit) (0.3)\n",
            "Requirement already satisfied: decorator>=3.4.0 in /usr/local/lib/python3.6/dist-packages (from validators->streamlit) (4.4.2)\n",
            "Collecting smmap<4,>=3.0.1\n",
            "  Downloading https://files.pythonhosted.org/packages/b0/9a/4d409a6234eb940e6a78dfdfc66156e7522262f5f2fecca07dc55915952d/smmap-3.0.4-py2.py3-none-any.whl\n",
            "Requirement already satisfied: widgetsnbextension~=3.5.0 in /usr/local/lib/python3.6/dist-packages (from ipywidgets>=7.0.0->pydeck>=0.1.dev5->streamlit) (3.5.1)\n",
            "Requirement already satisfied: ipython>=4.0.0; python_version >= \"3.3\" in /usr/local/lib/python3.6/dist-packages (from ipywidgets>=7.0.0->pydeck>=0.1.dev5->streamlit) (5.5.0)\n",
            "Requirement already satisfied: nbformat>=4.2.0 in /usr/local/lib/python3.6/dist-packages (from ipywidgets>=7.0.0->pydeck>=0.1.dev5->streamlit) (5.0.8)\n",
            "Requirement already satisfied: ipython-genutils in /usr/local/lib/python3.6/dist-packages (from traitlets>=4.3.2->pydeck>=0.1.dev5->streamlit) (0.2.0)\n",
            "Requirement already satisfied: MarkupSafe>=0.23 in /usr/local/lib/python3.6/dist-packages (from jinja2>=2.10.1->pydeck>=0.1.dev5->streamlit) (1.1.1)\n",
            "Requirement already satisfied: jupyter-client in /usr/local/lib/python3.6/dist-packages (from ipykernel>=5.1.2; python_version >= \"3.4\"->pydeck>=0.1.dev5->streamlit) (5.3.5)\n",
            "Requirement already satisfied: notebook>=4.4.1 in /usr/local/lib/python3.6/dist-packages (from widgetsnbextension~=3.5.0->ipywidgets>=7.0.0->pydeck>=0.1.dev5->streamlit) (5.3.1)\n",
            "Requirement already satisfied: simplegeneric>0.8 in /usr/local/lib/python3.6/dist-packages (from ipython>=4.0.0; python_version >= \"3.3\"->ipywidgets>=7.0.0->pydeck>=0.1.dev5->streamlit) (0.8.1)\n",
            "Requirement already satisfied: pygments in /usr/local/lib/python3.6/dist-packages (from ipython>=4.0.0; python_version >= \"3.3\"->ipywidgets>=7.0.0->pydeck>=0.1.dev5->streamlit) (2.6.1)\n",
            "Requirement already satisfied: pexpect; sys_platform != \"win32\" in /usr/local/lib/python3.6/dist-packages (from ipython>=4.0.0; python_version >= \"3.3\"->ipywidgets>=7.0.0->pydeck>=0.1.dev5->streamlit) (4.8.0)\n",
            "Requirement already satisfied: pickleshare in /usr/local/lib/python3.6/dist-packages (from ipython>=4.0.0; python_version >= \"3.3\"->ipywidgets>=7.0.0->pydeck>=0.1.dev5->streamlit) (0.7.5)\n",
            "Requirement already satisfied: prompt-toolkit<2.0.0,>=1.0.4 in /usr/local/lib/python3.6/dist-packages (from ipython>=4.0.0; python_version >= \"3.3\"->ipywidgets>=7.0.0->pydeck>=0.1.dev5->streamlit) (1.0.18)\n",
            "Requirement already satisfied: jupyter-core in /usr/local/lib/python3.6/dist-packages (from nbformat>=4.2.0->ipywidgets>=7.0.0->pydeck>=0.1.dev5->streamlit) (4.7.0)\n",
            "Requirement already satisfied: pyzmq>=13 in /usr/local/lib/python3.6/dist-packages (from jupyter-client->ipykernel>=5.1.2; python_version >= \"3.4\"->pydeck>=0.1.dev5->streamlit) (20.0.0)\n",
            "Requirement already satisfied: Send2Trash in /usr/local/lib/python3.6/dist-packages (from notebook>=4.4.1->widgetsnbextension~=3.5.0->ipywidgets>=7.0.0->pydeck>=0.1.dev5->streamlit) (1.5.0)\n",
            "Requirement already satisfied: nbconvert in /usr/local/lib/python3.6/dist-packages (from notebook>=4.4.1->widgetsnbextension~=3.5.0->ipywidgets>=7.0.0->pydeck>=0.1.dev5->streamlit) (5.6.1)\n",
            "Requirement already satisfied: terminado>=0.8.1 in /usr/local/lib/python3.6/dist-packages (from notebook>=4.4.1->widgetsnbextension~=3.5.0->ipywidgets>=7.0.0->pydeck>=0.1.dev5->streamlit) (0.9.1)\n",
            "Requirement already satisfied: ptyprocess>=0.5 in /usr/local/lib/python3.6/dist-packages (from pexpect; sys_platform != \"win32\"->ipython>=4.0.0; python_version >= \"3.3\"->ipywidgets>=7.0.0->pydeck>=0.1.dev5->streamlit) (0.6.0)\n",
            "Requirement already satisfied: wcwidth in /usr/local/lib/python3.6/dist-packages (from prompt-toolkit<2.0.0,>=1.0.4->ipython>=4.0.0; python_version >= \"3.3\"->ipywidgets>=7.0.0->pydeck>=0.1.dev5->streamlit) (0.2.5)\n",
            "Requirement already satisfied: mistune<2,>=0.8.1 in /usr/local/lib/python3.6/dist-packages (from nbconvert->notebook>=4.4.1->widgetsnbextension~=3.5.0->ipywidgets>=7.0.0->pydeck>=0.1.dev5->streamlit) (0.8.4)\n",
            "Requirement already satisfied: pandocfilters>=1.4.1 in /usr/local/lib/python3.6/dist-packages (from nbconvert->notebook>=4.4.1->widgetsnbextension~=3.5.0->ipywidgets>=7.0.0->pydeck>=0.1.dev5->streamlit) (1.4.3)\n",
            "Requirement already satisfied: testpath in /usr/local/lib/python3.6/dist-packages (from nbconvert->notebook>=4.4.1->widgetsnbextension~=3.5.0->ipywidgets>=7.0.0->pydeck>=0.1.dev5->streamlit) (0.4.4)\n",
            "Requirement already satisfied: defusedxml in /usr/local/lib/python3.6/dist-packages (from nbconvert->notebook>=4.4.1->widgetsnbextension~=3.5.0->ipywidgets>=7.0.0->pydeck>=0.1.dev5->streamlit) (0.6.0)\n",
            "Requirement already satisfied: bleach in /usr/local/lib/python3.6/dist-packages (from nbconvert->notebook>=4.4.1->widgetsnbextension~=3.5.0->ipywidgets>=7.0.0->pydeck>=0.1.dev5->streamlit) (3.2.1)\n",
            "Requirement already satisfied: webencodings in /usr/local/lib/python3.6/dist-packages (from bleach->nbconvert->notebook>=4.4.1->widgetsnbextension~=3.5.0->ipywidgets>=7.0.0->pydeck>=0.1.dev5->streamlit) (0.5.1)\n",
            "Building wheels for collected packages: watchdog, blinker, pathtools\n",
            "  Building wheel for watchdog (setup.py) ... \u001b[?25l\u001b[?25hdone\n",
            "  Created wheel for watchdog: filename=watchdog-0.10.4-cp36-none-any.whl size=74841 sha256=842f00f0fe520376491c7195e8b28ad9d1027efccb3b55dfebe20872ab535f1a\n",
            "  Stored in directory: /root/.cache/pip/wheels/9e/11/04/5160b8815b0cc7cf574bdc6d053e510169ec264c8791b4ec3a\n",
            "  Building wheel for blinker (setup.py) ... \u001b[?25l\u001b[?25hdone\n",
            "  Created wheel for blinker: filename=blinker-1.4-cp36-none-any.whl size=13450 sha256=30254a70e6bd4df2445ac0114a76b3da0d55de2f04bdb6db3bddf8b90101318a\n",
            "  Stored in directory: /root/.cache/pip/wheels/92/a0/00/8690a57883956a301d91cf4ec999cc0b258b01e3f548f86e89\n",
            "  Building wheel for pathtools (setup.py) ... \u001b[?25l\u001b[?25hdone\n",
            "  Created wheel for pathtools: filename=pathtools-0.1.2-cp36-none-any.whl size=8785 sha256=9ef34dc22df85c209cd9dd38328b8e54493e33d497f4d36cb26d6f61fff42996\n",
            "  Stored in directory: /root/.cache/pip/wheels/0b/04/79/c3b0c3a0266a3cb4376da31e5bfe8bba0c489246968a68e843\n",
            "Successfully built watchdog blinker pathtools\n",
            "\u001b[31mERROR: google-colab 1.0.0 has requirement ipykernel~=4.10, but you'll have ipykernel 5.3.4 which is incompatible.\u001b[0m\n",
            "\u001b[31mERROR: botocore 1.19.25 has requirement urllib3<1.27,>=1.25.4; python_version != \"3.4\", but you'll have urllib3 1.24.3 which is incompatible.\u001b[0m\n",
            "Installing collected packages: enum-compat, smmap, gitdb, gitpython, ipykernel, pydeck, pathtools, watchdog, jmespath, botocore, s3transfer, boto3, validators, base58, blinker, streamlit\n",
            "  Found existing installation: ipykernel 4.10.1\n",
            "    Uninstalling ipykernel-4.10.1:\n",
            "      Successfully uninstalled ipykernel-4.10.1\n",
            "Successfully installed base58-2.0.1 blinker-1.4 boto3-1.16.25 botocore-1.19.25 enum-compat-0.0.3 gitdb-4.0.5 gitpython-3.1.11 ipykernel-5.3.4 jmespath-0.10.0 pathtools-0.1.2 pydeck-0.5.0 s3transfer-0.3.3 smmap-3.0.4 streamlit-0.71.0 validators-0.18.1 watchdog-0.10.4\n"
          ],
          "name": "stdout"
        },
        {
          "output_type": "display_data",
          "data": {
            "application/vnd.colab-display-data+json": {
              "pip_warning": {
                "packages": [
                  "ipykernel"
                ]
              }
            }
          },
          "metadata": {
            "tags": []
          }
        },
        {
          "output_type": "stream",
          "text": [
            "Collecting pyngrok===4.1.1\n",
            "  Downloading https://files.pythonhosted.org/packages/e4/a9/de2e15c92eb3aa4a2646ce3a7542317eb69ac47f667578ce8bf916320847/pyngrok-4.1.1.tar.gz\n",
            "Requirement already satisfied: future in /usr/local/lib/python3.6/dist-packages (from pyngrok===4.1.1) (0.16.0)\n",
            "Requirement already satisfied: PyYAML in /usr/local/lib/python3.6/dist-packages (from pyngrok===4.1.1) (3.13)\n",
            "Building wheels for collected packages: pyngrok\n",
            "  Building wheel for pyngrok (setup.py) ... \u001b[?25l\u001b[?25hdone\n",
            "  Created wheel for pyngrok: filename=pyngrok-4.1.1-cp36-none-any.whl size=15971 sha256=476b17b907e8c5f0a1b107fc986a12ef6f0961effea64ebfac025f858ff08c24\n",
            "  Stored in directory: /root/.cache/pip/wheels/97/71/0d/1695f7c8815c0beb3b5d9b35d6eec9243c87e6070fbe3977fa\n",
            "Successfully built pyngrok\n",
            "Installing collected packages: pyngrok\n",
            "Successfully installed pyngrok-4.1.1\n"
          ],
          "name": "stdout"
        }
      ]
    },
    {
      "cell_type": "code",
      "metadata": {
        "id": "TvjTaMBxdUIk",
        "colab": {
          "base_uri": "https://localhost:8080/"
        },
        "outputId": "ae0b1e7c-c216-4b18-ccfc-19ac3cc81286"
      },
      "source": [
        "%%writefile sent-analysis-app.py\n",
        "import numpy as np\n",
        "import pandas as pd \n",
        "import pickle\n",
        "import streamlit as st\n",
        "import base64\n",
        "from PIL import Image\n",
        "#df = pd.read_csv('/content/drive/My Drive/amazonreviews.tsv',sep='\\t')\n",
        "model=pickle.load(open('sentiment_analysis_model.p','rb'))\n",
        "\n",
        "st.set_page_config(page_title=\"Sentiment Analysis Web App\",page_icon=\"\",layout=\"centered\",initial_sidebar_state=\"expanded\",)\n",
        "st.title('Sentiment Analysis Model')\n",
        "st.subheader('by Amlan Mohanty ')\n",
        "\n",
        "image='data:image/png;base64,iVBORw0KGgoAAAANSUhEUgAAARcAAAC1CAMAAABCrku3AAABX1BMVEX////ta1r9yC442ouPj5mIiJOMjJbtaViGhpHLy8/8/PyRkZv/ySrsYlChoamWlp/tZlQu2Yfw8fHBwcb9xhu4pX+EiZ/nvlOqqrHc3N+Tipqlpa2ztLm6vcEl2ISbm6Tm5uiHkZ3sXkrS0tbs7O3IyM39xAD+8N+Vh5q5ub7+8+xg4J/xjYHscGD//P/5/vzn+e/Q9uL81GbwubKo7sn1sKKGmJf4xsDsfnDZ9ub74t/98dJS25b85MH9zV9G3pT8yz3++u/8zW783q382py97dNy5Kr8zk6e6sH81YnjcmX50Muhi5F7oZb+3oj/9uT2ta38263+23n2s6DzpJWG4rH86rv65+GQ57jxm4r90nr82qD84cL80o3pj4T72s7KfnrfuV2km49xrpRmuJKCm5fZdm34wUdKzY6xhonLooSwoIS7nYzisW3Vs2XUqXpZwJDst19vs5Sph4u/gYA/7A6dAAAdyUlEQVR4nO1dC3vTRrp2EkmWZVuyZZe1YsdyfElqJ45NSCAkIRcgFxIKlOYC6S50CwX27Nk97Lb//znfjOamuxyyPXsWvc9TYsszo5l3vuvMSM1kUqRIkSJFihQpUqT4mqBp16vXqnRutiPXhmnX63p8Z7qVTtKhalajZtv1vjV5ZzqyLDcmr5YEWq7T6UzQJVNVFDkXV8qSFbmWrMGWLSuKIkGr9qTMaIYiSao5Ya1k6KjAuZJcjE1ZkpRYXmzU4W6S9izghEBRkxHTAmAyboaXLmrPdzWPeiQnn6kb5gUPTZLR3EhyJVEPRiCxag9/hElVv1iPGiDbtveiJeOZ0hO3kowXCzqcSI/w/Y0WCIGedIQjFXrg8JLp5lrJKkWgAUrs46XuSHFyYUzGS+IO9xUmrYk9C/ASb+GSI4gXNEoJuqYklsaEvCQF5qXlvqZ1anberhGeepVKxcpYDcNuIMU0KxXU31oFeegO/IaUD/3tZFoN2661kCup23a/KzRnQHPEVFhQtJcx53Sjjm9QqdhIYuGqaGPRPXTcN81VrQ/VmM2xGnY+b/dbIi+oQ05LWg9XQT3WjXy90qLNOD+jykYtF2bYUQdAj8SfW4aMLiqyjq/CN7kyhy5hP2ipWMIVbBPANCgSlKkh99cBuwOWJ5fBDk5WCNstyWlOreHm5lTk+NA1Ra7DFUV2bL4sC+ZQA6sr97oyF0zogKxbCq7mGAgL3QZ3JCfw0kfGDxPeQp8qOJZwitVMpxnk5LSaiivLYSLWxaOU7R7rVQs5bWyHHek24Heb+iwTRQDOQJBNBBWQ8ogXhZdRdFLAcLov40GjIdboRBh5xwnKMACFNqcIvHRQn7sZ1BLRsDlcTcKF8bhNGccW6AJ2o4QXxKWCb4SlDfqLSUFjMkynmbyGJhL3CnxNP0xgVGe6FCKfGoxP0S3TsomDMvDveTxsuNCy8bgNXW+4eaFloBeksEVmXqm3TMsgc48FFEjF02VrGV1HHjmv67pgYnUFu6KczIzfHK2G/tgO4bLey/UVwgO1L8hgqxoZRx13TdE7nQamhfJiokH3rZ6uhtECHaUCIM+hrz2Z3NeE/hqaw4sypzlzCD3QsN3tZZBWiLwoNacM2Eotk0MXUHt9mUyfqWAaMC+K3c2YqF2YTw1PrJ3JCKrcUhxZ6tJBOwNSbJNUw2U7PSaPAi/oO6prOpxqBqHW6tJmgBdUCImzFuVrun3ZoUbuOUNUeiZAA+aRRUYdQfygD3hkhJeMhxc0SThuwvqLCtedC3IHN4c62HV4wR3FwtDKYIH3+CPUrKRROTTpgHDpnuK0g6GZLYuElpQXKicwv7hrSH6MDq1AeOmiUKNmxUbTVg1bPzR9hqNVCraH6EZ0hI4RCecF2V+nF+iD7vQOCR1vDvGB5cUkE40J8vGCK+koCsaFe3RAvBoiKNOa02XSbkvw0z2HKOiJgsxATsU9kBwvRO0Lnj85QebTMpx+YzlVKNDwDSrLMbzkSRlnjGTWTMnVXIfYl2heKo70ykSMsbDO0WodyksDuT9s0N28oFsqHU2mQeGcgk27jO065cW0qZOMI6bn6CWWF71GgEKML+Ml72rOSsKLZksu4EI+XlB/lXrPwgZd5AXHiToUo0lEt29TI894QSpiyBIbiB9dvcUmCfUAyd+cWOCLeMF/XSFCIC+SyAtOTaiISeTuPl7ypBM41HHxgqx23nasLx0k6qjaEnlB6yvMYvphQt5Y6WqmhQ2B6ZhDBXvYWl8L5oWFCAl4qSDzh+ML3dFwPy8VJ9BgQI3J/YoDrIfdAF5UYn7pdyEPIAEUGf8cuqiRUkyPaqhuD0lWIC8mMkCyYmCZwoPFCbas9xuGIhudQF7QfRW93kvCi2Ng6v0GhHI2ZcHNSwenrvU66SBOjQzaQXQHpR/AC+qWbrV6kte+kAZxLTwxSr3TqROvRXjRbDnf6PTybIK9aOVlpseK4SieE13jQLISyAu+Lw534nmBvEFizbG4zsWL6dydijeOU5nWt3DYqYXYF2KaPbyQtZsW+ojckaOPOLIlvBhOZXTbViAvGbOhOpE4zV8wV1itZSfxQPkRHmEdPjjU6djxzmGfINP8SGJlMC+0Fqg7aU7C+o7yI6w1FspfLKfvuOfO7TUYqiIsLxgyzrlYtQ6t1nDSsT7cCVkOk68KYVdNrC4kQk565KyiQPqE8iM+xHBHbebqIONGQyAOck3FqJNcs5PL5Sz6gSwadxqQBkAFCy4h8uhfp4zrA27OgOZI1RYqij52e7kcycq6c3W7RuYaXc4JYSgu33HuwKph2lpzdR1S/I7zXUP1yBgsRbC63ZyeV2wyPNZRa86W8vXQdPo/E1it/zXLzv+f0VJC7enXi17NSe5b/9cd+TdDw/FQqbh4gIM6OTha+4qhSaqsSsk2fL4qaGYr9UQpUqRIkSJFihQpUqRIkSJFihQpUqRIkSLFvw8Gm5ubp6fwz+DGm17Z2vr+2cvVnaPVly+ffL+1tXJzTWv3bx8cHi5t724vHR6uHdwf3VzTQMnpD8vDqVKpCCiVpobLP5xe3lTbK1uPjvaq1WqBAH3cW320dRNt315bKpebzXJ5BqEMn8vl3eODm+Fm82xYAjay2SmCbBYYKg3PNm+g8edPpoGHaS+Anb3Hz7+s6fEx0DDjBxB1fv9L+z24N2wLlAjIltrDO1+oUg+OFqo+TiiqCztfIDQHS4GkUGp2175EaAbr7WIQJ5SaYvvs+sysXHxc8EuKS2oWdi6u1zawEkqKg+bMtZkZrIMtiUGpeF1mtnYC9CeAmWto0/0oWeHM7N6+VsfvDKNkhcvM8M41Gt+/8skKsbs+S/OnCed1dO5npYzg16bD8cQdv1x2s4JsbbENQB7J/UtxY2Ln9GCv6h78QnVv5+XLq5cPd7BvctmZo4nMzO3dspuRZnN36fz81fn50jbyTa4fZ9Ym7PhbUYWypWJ74+zF27fdwaC7+fbF2Ua7KHJTKp5O1PjKY1FYCtXC1ePF/X0naFnZ3198/NBFTaF6kTygWSu7JKJ8uHZ/xARuNF47n3FR03w1kTSeCcICcnJ26jm4o52ug6sWROb1BI2PHgrCUq1eBYiDdvFQ9FTVJ0nbPm+KrBwGWZD752Wx0HZyYrTXRc5KezlEGE5ftzkzxeXkR56O+IirhUdh9bQfq0K51WRNC26oXD4OHfHBrlBuJqmR0TaKXBCWI2zH5WsuVqWNhMTsHzEVKUw/ilKQlcdcmxIRM1oq89GGs4IgMrObjBhto8RYGcbEtJcbjJmExHBaCoWH+zGFn+9UJyFGoOU8bqyjY144GTHLjJbSnfih3suWJiFGY0pUmP5jgs58zxx3PDGHTSYsBwmaHjPHlcjGnBXZOBMlQJdM65IY3ytKS3UnTlgcPP/IavwpuuQrRstSMsUYnfMasYXvtOko3yQ0GBpjsrgeV/ZHNshnSV2vtsrqRCYFt/kgkza9wqhsHscUfUvtxSSelxHTfhtdcHGB0RLQyy3A84AxvWTERKQcYxaRHAb8eBth7G97jRETrXnakNJy5v1p//TO2TLg7M6pr3vrRWqRImVsZa8QQsvzR6t7EMqgcG7v4YVXw6jEFFbDJYHa3LKXlrGzBtNEyzDbx94FhmMmZZEm5nWJhiPu6yNIliABgGQgixanhl6D/IYQU/LUc+MZGV/1pfv6xY4Y3xaq1YeeUG+V8vkorOmDZqASrXiWG9ACg7vrVJV8fIrYZMNzsTc48yw3ZIvtN664ZvSGENqOyAj26bR/dPX9YtqXWBcW9lzMDIigFfZCjPVol7pcV8cPtv0pZLPszomooDUj1qo2nNFnp0RN0dbbAcsNpfa6SDxVwGyEs35IZ11cOtjfCVyZKixciRRsUUkLSQjYrIuB//gweLmhuS1SMKKXt0M7flokVkJ00G959OtG8US0spskkSyGrjqwsT0QLl5Mhy3CVKdF90MdWTVwOWZM51x0KwczoYswZbEcdWThppeIS0m0uffCF2GyLg6I7c0OwwTmiujCjnDtcfgyJkqjeUGNhMnBQcwrsrC9Ldx7LWppqnkuqPI5KRkWxFBxGQpadKcdtTbVfsFLDogmFe8Ft75IKRBm/PFCOC2ABYEYKm2FAF89ouIiaNFa9EKmSAzVpGbI+t2Gf2B3QnQoiBhKa4iFeVL1WYgYWtyRHLFO1R/9TVMOhAk/iF3fPeeFibMOcUmDNhEXcahxK5kiiYTXdmAGvk/tCJ/vBxFKRIlZZKWZvPnb3vXN9+04WqA0d0vM9AbmD+sl70gHpdgF3myRs0AEpuQLCREe+cRlP9TkchSOeAtUYHzLWGOfuIy2E6x7lzkLJLduBq5qOiRkp/iV5djtAJRd8vKOwAQHvf5RXcWLC5R/zMo/8CuiA2J1BX9yHC8urmSR+rOlgKDXP9v3YowL0STulPwSx0BiusIRM3dbSWgRHfMKddXetqlisEGNk9DiInLJJ0IMLxwWiix2YblSjCYN2YN4mw4vpYC0mlgHIZBfjdciXIOnUsRyL3g8EpnsMjek5wm0aMbl1omZDgphhl41SiYuLoE5cdoY+lsngQq3o4vJxEWkgSqSZ7nBN6ZRMnERq5BsvPzK1/FR26tGG1xcst4d6qxgkQXHTBSp7Y8xdhzp2GMXnnBevLtp7u017phXHLdeuHI3Tc0LU6MDcfF7xrWf5t5f4455Zdu54g/tLtse23DZZiMvnfz0k+iasqWffjrhNrnNVI/YqKJ/GWbPGdJD+n1foOHPPxvf7Anfj74xfv4DJ4Zz6cS8oo9COMQDLe+yC7ts3DPv7kp33+1yXt7/IknffeLMMHtCVG/XZ3jJkPhUv2BqVPowPz8vnfBzHicSXPjAiOH2RCt6yGXwmhe2QjVd+Mct+datn4U9EePWLXn2IyNmgYkjzRrcTe96VICpUfmTNItwlxHzHf4++5kSwyMeqow+XqgKsAtMjbJD9MKZ+b9wHv4yj64worLcVTtS5Y9gLhc8poEnRtWf5/+r8PMtJiCFv9/6a+G/5//KC7BKNAZyqSkJyngqyNXo7izIxqe7s3eJZX43K32e2YV/P1HmGJm3iTL6FhucWEUYIlOj7AdMg8R5eYqJ+sAEqM1mlEQwG97WL7xm95nAy62/eXmp/s8tgRdmYKjhdUV2973RC00Yy58xIWWgh/Cg5JEKNd/NvvMt7o3DIjtnRCW2qjvgvGB5kZ4KvGCiuBvnkf+Zw67PIV14Znplh2+u/e3W/Oz8U25gjmbnv52/9Q9egNnZxShemEoc0kG/+/Y9+lj+p/N35tO3v7j+ihskxCGF8sI04K2wFfvTvDQv0JAdAjHzPwmbsGyRbj2EF6oBTH25mZ2u/t249fNHYR3z49Nbxt+F73u0kubVRgSqAcyELlElee/oS/mz5BiUT9I/8d/d+XfM8tIOrXi1kWLK4YXlx6dC9FI6+fU3McjLDn/79YOQI3A7S/Lvord1sqzEQ1XB/8DA/+BKleD7XmE6MS/NEF6AgJC/AthEhfFSiuAFHX7xHoYRv/t4aXtbfxzFy7QvgXSHM9fmJQEYL7uR8lIM5iUGXygvMfhdeAnVo2GUvEzIi5iTO6B2l2WNR8myI8wLW/gcEF4C7S7zsIfJsiMMFscRbx/vj4RwNxZ8m/F1jD9ijusqOS98SfcykZ8+Ts6L4KejeeGRxyiIl6wvUXJ4YRk1iYJOvK3/0TsiT3oUAM4LC5J9UZAwIr4r5FrC9HMk5ks8B7/tZZeCRB5ZdsG7ypDNlqZOAFO+Y87CFsDQI3UUA69l4GuYhT9/EwSeIC0wGh57tRHDmweIqy+fxGTI0Zx37/kVTkNoHkBWFdrsh3X3Yl3p5MOvTyEtmn/6q5gz4p9Y0DMiZte/h+RViX0x3g3CN/yoFGvkKjBvJHaWp8JCwvz+W8lFDAS/334n8MKMNVU+Hy9kC5aHaB5H/ZuEOfn1V5RD/hbipn2NMJBUeI9d4MtSe38IAnNYBb4wVfXYYQckFW4yoRUNzHez0numTOXy57uzBo9ihJVMshvrPyBE4n7ukLQpYYnlBETl6YcTFLecfECfBZHJTrEe3fEm5QzUnngXmUINDPuVqxHJwb07JVQFWCLgWsZ8Nzubfz/TxAsvwMrsL7tBakSN1HnGB7LszU0mVyS0sPD0A7G58AeYEZYdfEtZ2ZK/9Quv4d3fS+aRBK15FOSOwCGR3R8eeiyJphUtNkjz33333V206vBe1Cq+2kKDoIANgTOyaM18y4BuHmFa3OtSIjF8p8ScCjG7QANZa+OH5H6sRtHBxYXvZhMmF7xtUwa8TFGp+EyWXWZ/ee/yTwILh94ki+Oez2byk3ZgUFyWdqr4G1t2EFjwN8FA95en2SmFUSKBEYzJYrB54YO67b3CzEr50+fPnz95HxHg4jL2XeGg241ckfiGgP+5EnZFPBNCN3KDjns99q7YJdsoKSz6WvCdsiNKIBiH8YwXAY9NCLHKgU8VBZCjPSW+OBu/Detas7wkJirwzBSdbb6BJMZ2YRBsrEYv+Vmn2/ZcC2K3p93n8Mj2ZND2USbzlngkYVhnsUmSeDyRHEILeYiCOGbx9EvwkSCRFuHAGRGXQsCJxWPfDhI/tBqGcsAmf/BBD6o2ReFU0HIMMeIuLBWXqSA1Yo65cMR3abUYEyMeZR6QawuL/qapnRXme+U8mhjXgbPtqO1pdrJHFJhRNDGlDaF1qoeB2/bCyZ7H4rUoiXGd8L4Ks7oIxM6KBzVWDqOIKW8Lbyulx0SCrC7CYCrgKFgUMa6HSIgzymbDHrR4RPeXBXkarYYTsyCe2qTbk9XAw/NUYFxpX4QqNcUNehoGhomLcBRMfPXrWdiJqWxblIzRMOAQmgt0K63wUbz6Y8iznwXXmVSqcd7ciII5ZnHKww7Yld0nMpeC6rpABabk2ufYDHzO0fusCTkTks2Gn8mmob/7pMbgKPD56VVXO/RMSDXAuiDcp0N2mc7Rud87I2FxuZ1XQbLmAd2qL75wXfY/AZr1Hm2mjxWEH8eEbtLYbuGB6/LWUcFFDXxbdcf6P5LdSe+BaGF0QScyQUfOZ1zaBGHMkvsUHfPo4cdU0aNHZPxt906qdrqBTnsTlIrFjXvusz+nhJbw05gI7AzDgifFWXxyhE/BY0wfPfbI3AXbtA0VxhFNB71WYnxwuNt00sZmc2bp2BOisANnUcea0UIBJcYbhGyevlkeol+Gy2/ueR/AeUttUMyDE3z31XcY7PnW988ATx5s+U7oXiR5oIQP0Gc+x+ODY4SD+764jepf7AMlP7AnIAKiswGG//opXcEr/hDd+gpddSkUkj/7y2kJ1SIEdnYs9pkZDmaZI58OwKBn6rJh53D9YOlC9FMTCNo0I+b7hK0zGRMWtQLB/ErTf7onGAd8wSr2gTXqk4CYUI/rxjpbjwiJdEXw8x3Vl0kenxrwAMd7fswLZmJmmttJ3jEvRn4J3u/Bll2mihsJXr0wYI8PiEdWw3HBF3Y/xj/gKDyX7z+f6gXPosvl+Acc7/PoJkHpDH8Cwhu5BWKdRX3upy3CwYkpLMSIzGCVBX2JDNKYD7W5FC0CYyF/SkYLEMNXdovDyDcMnApPWmdjnuFjuBCeiq56XbKAwRMeCie002Nx8fYwnJnxq3LQKm8cNod8abe44X9szwEENTxFyE4lf0WD+GxNdfrZVlDIoz24Eh63L+wldF9jYWm33DxcC1pQGR2cCwlCuTzB204GQ54tZotTr/2v2hpsnolBcGk4ySs9FsU0ulo9euZ+3HPl+YNne2IEXN1J/I6ZsZhGl5sz6LUVYtPjg3PXM2zl7YleqaSJ2SIEuMPlF5ubAw1uMdIGm5svlofiCz2y7dcT/g9pxDdXoAcaCzv4PWRbWw++f7a6437RSWHhKr5BjjXPA43l3aXz44OD2wcHx/hNJ66MqXk46UuD7hTFNV3nTVvDDcCJ8xYu8UdPOpUEF9PuBQb8HjIHnlfjVP2xcTTu73oWGMrsedgZ7w+JTQvH5bJ3gYHmR+7L2fbkr8UB7D+LebkUlaUnk/+/kdaC0mgfys3z671h6nQqft07WwxKGBJhcS/2BVOFhaOQhYVojAMXGDysxHjyKNwD2xr1PjKwydd5uRTF4k41ch2z+vBarCCMPe8F8mlQhBdPgnsbpTChAZuz8SWsICwixxMkNejFfk+uzQrCOPQNduWm/7n7yXG5foLXXtyCUioWh+s38S5I7cHLI7exRSa4cHQVGNZMhvuvDmfc5ha9CXLp/PbN/O/ctM07bzam2uCFHBTbUxtv7tzc60NRvPJyx3krWWF6b+fZsz9+4SsgOca3114d7u4CPc2Z3d3DV2sHk7+aLQra4PLeixdngBcv7l0Obv7/n7eyv7//HEDfS3aTGAHG6J8bbzlFihQpUqRIkSJFihQpUqRIkSJFihQpbgxa4Mff43b/4huZZswZqK6FEFxIayg5+jmn1Ca7tQnNonFqltVKVkOrS9Zk98hk4CZd9Lfl3Cxx5xS1Hl2iosoIejeotqoY8K+J7qgoclCRcFiqrCJWW6paiSur4XtYqhLTWX9FW5UN9KGuyiG8aGbAD2Y+bporimTokqJIAbW1fh5GpuT78DlnNCbrsiVLkgJy2JWVWF46+XwLblfLTywvuiIpc/C3puRDeNHzuv9iEl4UK2M2FBl3ibUtkKwqwYxo0YKLealjoat4ygta63zsyHIrsJHYg5DAi6SCIDcIL/5O2YotdtgpkIQXxIglgyUxG0beqKB63Xo+b3c0rW7PWbYi5e1KpmHrpm7r8GvFNmAQHTufD1Q+CuAlL0HbhJecnTfqeJiWnjc6PRv61a3BDRtapmZIkm2bpm3nLNvuQecN9LOG+tOP4yUvKTrlBTeIlLdnG3Avw+6bdl6S9Jqm27me0oF7Q4FOQnnJtWDwqmXKiqzKigS1JEVWVMnUDLlhqTDtaiNTk/NwcxUYyaMJqMiyYchKxHwC1T1DyRNeGrJq52UF+p5T0W1QI2D8VPjSyBggWrLaNRW5oqlolJYs54AcWdVlObr/ulIDWe84vHRlWbFlGYjtKyp0TZUbXei+pNqaokBrFrJ5Kgw1mX1RoDm4va0onW4F9dNCYg0+SjOUhtaSlRo4NVBgZCr6YEdBtOBTBw02onFoxIL/0EgryKSCVNblfkaTlHyn25DR8FsVLK+mWUG31rqSDHIJ39Eo4R9kUU08FVG81DMGzCXmxUCDtRRVo7yABegaigFOGYivdcxMzkKKpSfjRQJFyaFWkMyi8cPQjblWBvNC7Qu6jrQZJAWkpAPGtFLB18J5Af50sF7I7vaUPC5vZFoy9v0G1vpuDq6Bn4Pm4HaYlxZQCc6vhm6m9yoVQ4602jo0CezPYV6gp3AXpLycF8e+gAY4VsaqzKEqiexLBxtZRwSQXmmZXF6WQXc8vGgwPLmLW+yDlIEPy4c5R8pLV5YMCXip0fLUxNagn1oNnKwhwXeBFw2m08K+AIwO1MmHWH3Gi61l6tCylAfJRhWgRieIF9RMKw8zbiTlhThHFRe1UciS0VpoHn28QPN11OdMTlYs0+xGBY2Yl0wfeaUKksqWU76LxVJD81dBbHRlNy/APdzDwD3RtZh7EF5MGcm8BhrbxzU0NKoummk3L5otg+mvyJPxUlOURq6ugMUz6zmzwniBKe+0SIAAZSRDw/fRLavWiOVFkzAv0MVay6qj8qBatQrYMhs4U0wUIWBeapZjX6BpMHg91DNQwG7HzoXfgvICRREvYL/yuVbFtpDjV+wc3ATzAo6F8ALjMbsJ5UVVCS+ajiPfGr6GQuCMlgcjnOmDBa/APVHkB9bB0XdQByikdiJ4UVU0ug6uDQKGy8OtukhHJRgPMiWKbCDDqiEfZXZlFYdoMlYC9AEcl2pEhUkgAeh3cF3I15kGrgFBE/RcUXXkTZD/U+umjEaSmVNlSTXAs5qSHBNaW3N9FoV0GnoDk2Q16rWeltEqFRi4lmvUrUyugvkAu+bIiDlX0/tR8Uu3P4fb6lXw3xYqj6tqubmepmN/1K/1zD662u3XGppJSvYrPdKfvl7LRUePYJk1pw76C13Va/iuZr8+53QfRlXPkY/wuWFBWTSyaDn8/WGifptytDn9ClFT9TmwLCGB/1cLDRwdQIqwTF8pup1Kv5PkybgUKVKkSPEfjf8FVaKAa1hs3AIAAAAASUVORK5CYII='\n",
        "st.image(image, caption='',use_column_width=False)\n",
        "\n",
        "\n",
        "#main_bg = \"https://cdn.miscellaneoushi.com/1440x900/20121018/abstract%20technology%20hearts%201440x900%20wallpaper_www.miscellaneoushi.com_20.jpg\"\n",
        "#main_bg_ext = \"jpg\"\n",
        "\n",
        "#st.markdown(\n",
        " #   f\"\"\"\n",
        "  #  <style>\n",
        "   # .reportview-container {{\n",
        "    #    background: url(data:image/{main_bg_ext};base64,{base64.b64encode(open(main_bg, \"rb\").read()).decode()})\n",
        "    #}}\n",
        "    #</style>\n",
        "    #\"\"\",\n",
        "    #unsafe_allow_html=True\n",
        "#)\n",
        "\n",
        "\n",
        "st.markdown(\"\"\"\n",
        "<style>\n",
        "body {\n",
        "    color: #ff0000;\n",
        "    background-color: #001f;\n",
        "    etc. \n",
        "}\n",
        "</style>\n",
        "    \"\"\", unsafe_allow_html=True)\n",
        "\n",
        "\n",
        "\n",
        "st.subheader('Enter Text')\n",
        "message = st.text_area(\"\",\"Type Here ...\")\n",
        "if st.button('PREDICT'):\n",
        "  disp=\"\"\n",
        "  a=model.predict([message])[0]\n",
        "  if(a== 'pos'):\n",
        "        disp = \"Positive Review!\"\n",
        "  else:\n",
        "        disp = \"Negative Review!\"\n",
        "  st.header(f\"**{a}**\")\n",
        " \n",
        "  \n",
        "  q = model.predict_proba([message])\n",
        "  \n",
        "  #for index, item in enumerate(df['review']):\n",
        "      #st.write(f'{item} : {q[0][index]*100}%')\n",
        "\n",
        "st.sidebar.subheader(\"About App\")\n",
        "\n",
        "st.sidebar.info(\"This web app is made as part of Sentiment Analysis Major Project\")\n",
        "st.sidebar.info(\"Scroll down and type your text in the writing area\")\n",
        "st.sidebar.info(\"Click on the 'Predict' button to check whether the entered text is 'Positive' or 'Negative' \")\n",
        "st.sidebar.info(\"Don't forget to rate this app\")\n",
        "\n",
        "\n",
        "\n",
        "feedback = st.sidebar.slider('How much would you rate this app?',min_value=0,max_value=10,step=1)\n",
        "\n",
        "if feedback:\n",
        "  st.header(\"Thank you for rating the app!\")\n",
        "\n"
      ],
      "execution_count": 61,
      "outputs": [
        {
          "output_type": "stream",
          "text": [
            "Overwriting sent-analysis-app.py\n"
          ],
          "name": "stdout"
        }
      ]
    },
    {
      "cell_type": "code",
      "metadata": {
        "id": "3gJgC1LZjc-y",
        "colab": {
          "base_uri": "https://localhost:8080/",
          "height": 54
        },
        "outputId": "d441ff1f-d7f7-4dda-f016-fc020ed325ab"
      },
      "source": [
        "!nohup streamlit run sent-analysis-app.py &\n",
        "url = ngrok.connect(port='8501')\n",
        "url"
      ],
      "execution_count": 49,
      "outputs": [
        {
          "output_type": "stream",
          "text": [
            "nohup: appending output to 'nohup.out'\n"
          ],
          "name": "stdout"
        },
        {
          "output_type": "execute_result",
          "data": {
            "application/vnd.google.colaboratory.intrinsic+json": {
              "type": "string"
            },
            "text/plain": [
              "'http://146ca545576b.ngrok.io'"
            ]
          },
          "metadata": {
            "tags": []
          },
          "execution_count": 49
        }
      ]
    },
    {
      "cell_type": "code",
      "metadata": {
        "id": "lygiMPNQj2Lz"
      },
      "source": [
        ""
      ],
      "execution_count": 43,
      "outputs": []
    }
  ]
}